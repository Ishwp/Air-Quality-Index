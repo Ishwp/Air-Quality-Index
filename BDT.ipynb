import pandas as pd
import numpy as np
import seaborn as sns
import matplotlib.pyplot as plt
import warnings
warnings.filterwarnings ("ignore")
from sklearn.preprocessing import LabelEncoder
from sklearn.model_selection import train_test_split
from sklearn.linear_model import LinearRegression
from sklearn.tree import DecisionTreeRegressor
from sklearn.ensemble import RandomForestRegressor
from sklearn import metrics
from sklearn.metrics import mean_absolute_error,mean_squared_error,r2_score
from sklearn.metrics import accuracy_score, confusion_matrix

df=pd.read_csv('data1.csv',encoding='unicode_escape')df.shape
df.info()
df.isnull().sum()
df.describe()
df.nunique()
df.columns
sns.pairplot(data=df)
df['state'].value_counts()

plt.figure(figsize=(15,6))
plt.xticks(rotation=90)
df.state.hist()
plt.xlabel('state')
plt.ylabel('Frequencies')
plt.plot()

df['type'].value_counts()

plt.figure(figsize=(15,6))
plt.xticks(rotation=90)
df.type.hist()
plt.xlabel('Type')
plt.ylabel('Frequencies')
plt.plot()

df['agency'].value_counts()

plt.figure(figsize=(15,6))
plt.xticks(rotation=90)
df.agency.hist()
plt.xlabel('Agency')
plt.ylabel('Frequencies')
plt.plot()

plt.figure(figsize=(30,10))
plt.xticks(rotation=90)
sns.barplot(x='state',y='so2',data=df)

df[['so2','state']].groupby(['state']).mean().sort_values(by='so2').plot.bar(color='purple')
plt.show()

plt.figure(figsize=(30,10))
plt.xticks(rotation=90)
sns.barplot(x='state',y='no2',data=df)

df[['no2','state']].groupby(['state']).mean().sort_values(by='no2').plot.bar(color='purple')
plt.show()

plt.figure(figsize=(30,10))
plt.xticks(rotation=90)
sns.barplot(x='state',y='rspm',data=df)

plt.figure(figsize=(30,10))
plt.xticks(rotation=90)
sns.barplot(x='state',y='spm',data=df)

plt.figure(figsize=(30,10))
plt.xticks(rotation=90)
sns.barplot(x='state',y='pm2_5',data=df)

nullvalues=df.isnull().sum().sort_values(ascending=False)
nullvalues

null_values_percentage=(df.isnull().sum()/df.isnull().count()*100).sort_values(ascending=False)
null_values_percentage

df.drop(['agency'],axis=1,inplace=True)
df.drop(['stn_code'],axis=1,inplace=True)
df.drop(['date'],axis=1,inplace=True)
df.drop(['sampling_date'],axis=1,inplace=True)
df.drop(['location_monitoring_station'],axis=1,inplace=True)

df.isnull().sum()

df['location']=df['location'].fillna(df['location'].mode()[0])
df['type']=df['type'].fillna(df['type'].mode()[0])
df.fillna(0,inplace=True)
df.isnull().sum()

def cal_soi(so2):
  si=0
  if (so2<=40):
    si= so2* (50/40)
  elif (so2>40 and so2<=88):
    si= 50+(so2-40)*(50/40)
  elif (so2>80 and so2<=380):
    si= 100+(so2-80)*(100/300)
  elif (so2>388 and so2<-800):
    si= 200+(502-380)*(100/420)
  elif (so2>800 and so2<-1600):
    si= 300+(502-800)*(100/800)
  elif (so2>1600):
    si= 400+(so2-1600)*(100/800)
  return si
df['SOi']=df['so2'].apply(cal_soi)
data=df[['so2', 'SOi']]
data.head()

def cal_noi(no2):
  ni=0
  if (no2<=40):
    ni= no2* (50/40)
  elif (no2>40 and no2<=88):
    ni= 50+(no2-40)*(50/40)
  elif (no2>80 and no2<=380):
    ni= 100+(no2-80)*(100/300)
  elif (no2>388 and no2<-800):
    ni= 200+(502-380)*(100/420)
  elif (no2>800 and no2<-1600):
    ni= 300+(502-800)*(100/800)
  elif (no2>1600):
    ni= 400+(no2-1600)*(100/800)
  return ni
df['NOi']=df['no2'].apply(cal_noi)
data=df[['no2', 'NOi']]
data.head()

def cal_rspm(rspm):
  rpi=0
  if (rspm<=40):
    rpi= rspm* (50/40)
  elif (rspm>40 and rspm<=88):
    rpi= 50+(rspm-40)*(50/40)
  elif (rspm>80 and rspm<=380):
    rpi= 100+(rspm-80)*(100/300)
  elif (rspm>388 and rspm<-800):
    rpi= 200+(502-380)*(100/420)
  elif (rspm>800 and rspm<-1600):
    rpi= 300+(502-800)*(100/800)
  elif (rspm>1600):
    rpi= 400+(rspm-1600)*(100/800)
  return rpi
df['RPi']=df['rspm'].apply(cal_rspm)
data=df[['rspm', 'RPi']]
data.head()

def cal_spm(spm):
  spi=0
  if (spm<=40):
    spi= spm* (50/40)
  elif (spm>40 and spm<=88):
    spi= 50+(spm-40)*(50/40)
  elif (spm>80 and spm<=380):
    spi= 100+(spm-80)*(100/300)
  elif (spm>388 and spm<-800):
    spi= 200+(502-380)*(100/420)
  elif (spm>800 and spm<-1600):
    spi= 300+(502-800)*(100/800)
  elif (spm>1600):
    spi= 400+(spm-1600)*(100/800)
  return spi
df['SPi']=df['spm'].apply(cal_spm)
data=df[['spm', 'SPi']]
data.head()

def cal_aqi(si,ni,rspmi,spmi):
     aqi=0
     if(si>ni and si>rspmi and si>spmi):
      aqi=si
     if(ni>si and ni>rspmi and ni>spmi):
      aqi=ni
     if(rspmi>si and rspmi>ni and rspmi>spmi):
      aqi-rspmi
     if(spmi>si and spmi>ni and spmi>rspmi):
      aqi=spmi
     return aqi
df['AQI']=df.apply(lambda x:cal_aqi(x['SOi'],x['NOi'],x['RPi'],x['SPi']),axis=1)
data= df[['state', 'SOi' ,'NOi', 'RPi', 'SPi' ,'AQI']]
data.head()

def AQI_Range(x):
  if x<=50:
    return "Good"
  elif x>50 and x<=100:
    return "Moderate"
  elif x>100 and x<=200:
    return "Poor"
  elif x>200 and x<=300:
    return "Unhealthy"
  elif x>300 and x<=400:
    return "Very unhealthy"
  elif x>400:
    return "Hazardous"
df['AQI_Range'] = df['AQI'].apply(AQI_Range)
df.head()

df['AQI_Range'].value_counts()

X=df[['SOi', 'NOi', 'RPi', 'SPi']]
Y=df['AQI']
X.head()

Y.head()

X_train,X_test,Y_train,Y_test=train_test_split(X,Y,test_size=0.2,random_state=70)
print (X_train.shape, X_test.shape,Y_train.shape,Y_test.shape)

model=LinearRegression()
model.fit(X_train,Y_train)

train_pred=model.predict(X_train)
test_pred=model.predict(X_test)

RMSE_train=(np.sqrt (metrics.mean_squared_error(Y_train, train_pred)))
RMSE_test=(np.sqrt(metrics.mean_squared_error(Y_test, test_pred)))
print("RMSE Training Data:", str(RMSE_train))
print("RMSE Test Data:", str(RMSE_test))
print('-'*50)
print('RSquared value on train:',model.score (X_train, Y_train))
print('RSquared value on test:',model. score (X_test, Y_test))

DT=DecisionTreeRegressor()
DT.fit(X_train,Y_train)
train_preds=DT.predict(X_train)
test_preds=DT.predict(X_test)
RMSE_train=(np.sqrt(metrics.mean_squared_error(Y_train, train_preds)))
RMSE_test=(np.sqrt(metrics.mean_squared_error(Y_test, test_preds)))
print("RMSE Training Data: ", str(RMSE_train))
print("RMSE Test Data: ", str(RMSE_test))
print('-'*50)
print('RSquared value on train: ',DT.score(X_train,Y_train))
print('RSquared value on test: ',DT.score(X_test,Y_test))

RF=RandomForestRegressor().fit(X_train,Y_train)
train_preds1=RF.predict(X_train)
test_preds1=RF.predict(X_test)
RMSE_train=(np.sqrt(metrics.mean_squared_error(Y_train, train_preds1)))
RMSE_test=(np.sqrt (metrics.mean_squared_error(Y_test, test_preds1)))
print("RMSE Training Data: ", str(RMSE_train))
print("RMSE Test Data: ", str(RMSE_test))
print('-'*50)
print('RSquared value on train: ',RF.score (X_train, Y_train))
print('RSquared value on test: ',RF.score (X_test, Y_test))

from sklearn.linear_model import LogisticRegression
from sklearn.tree import DecisionTreeClassifier
from sklearn.ensemble import RandomForestClassifier
from sklearn.neighbors import KNeighborsClassifier
x2= df[['SOi', 'NOi', 'RPi', 'SPi']]
V2= df['AQI_Range']
x_train2,X_test2,y_train2,y_test2=train_test_split(x2, V2, test_size=0.33, random_state=70)

log_reg=LogisticRegression().fit(x_train2,y_train2) 
train_preds2=log_reg.predict(x_train2)
print("Model accuracy on train is: ", accuracy_score(y_train2,train_preds2))
test_preds2=log_reg.predict(X_test2)
print("Model accuracy on test is: ", accuracy_score(y_test2,test_preds2))
print('-'*50)
print('KappaScore is: ', metrics.cohen_kappa_score(y_test2, test_preds2))

log_reg.predict([[727,327.55,78.2,100]])

log_reg.predict([[2.7,45,35.16,23]])

log_reg.predict([[10,2.8,82,20]])

log_reg.predict([[2,45.8,37,32]])

DT2=DecisionTreeClassifier().fit(x_train2,y_train2)
train_preds3= DT2.predict(x_train2)
print("Model accuracy on train is: ", accuracy_score (y_train2, train_preds3))
test_preds3= DT2.predict(X_test2)
print("Model accuracy on test is: ", accuracy_score(y_test2, test_preds3))
print('-'*50)
print('KappaScore is: ', metrics.cohen_kappa_score(y_test2, test_preds3))

RF=RandomForestClassifier().fit(x_train2,y_train2)
train_preds4=RF.predict(x_train2)
print("Model accuracy on train is: ", accuracy_score(y_train2, train_preds4))
test_preds4=RF.predict (X_test2)
print("Model accuracy on test is: ", accuracy_score(y_test2, test_preds4))
print('-'*50)
print("KappaScore is: ",metrics.cohen_kappa_score(y_test2, test_preds4))

KNN=KNeighborsClassifier().fit(x_train2,y_train2)
train_preds5=KNN.predict(x_train2)
print("Model accuracy on train is: ", accuracy_score(y_train2,train_preds5))
test_preds5=KNN.predict(X_test2)
print("Model accuracy on test is: ", accuracy_score(y_test2, test_preds5))
print('-'*50)
print('KappaSKcore is: ', metrics.cohen_kappa_score (y_test2, test_preds5))

KNN.predict([[7.4,47.7,78.182,100]])

KNN.predict([[1,1.2,3.12,0]])

KNN.predict([[325.7,345,798.182,203]])
